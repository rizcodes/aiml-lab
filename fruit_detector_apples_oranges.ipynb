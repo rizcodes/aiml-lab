{
 "cells": [
  {
   "cell_type": "code",
   "execution_count": 1,
   "metadata": {},
   "outputs": [],
   "source": [
    "from sklearn.neighbors import KNeighborsClassifier\n",
    "from sklearn.model_selection import train_test_split\n",
    "from sklearn.metrics import accuracy_score\n",
    "import matplotlib.pyplot as plt\n",
    "import pandas as pd\n",
    "%matplotlib inline"
   ]
  },
  {
   "cell_type": "markdown",
   "metadata": {},
   "source": [
    "## Stage-1: Data Processing"
   ]
  },
  {
   "cell_type": "code",
   "execution_count": 2,
   "metadata": {},
   "outputs": [],
   "source": [
    "# Reading the provided example data\n",
    "data = pd.read_csv('Fruit.csv')"
   ]
  },
  {
   "cell_type": "code",
   "execution_count": 3,
   "metadata": {},
   "outputs": [
    {
     "data": {
      "text/html": [
       "<div>\n",
       "<style scoped>\n",
       "    .dataframe tbody tr th:only-of-type {\n",
       "        vertical-align: middle;\n",
       "    }\n",
       "\n",
       "    .dataframe tbody tr th {\n",
       "        vertical-align: top;\n",
       "    }\n",
       "\n",
       "    .dataframe thead th {\n",
       "        text-align: right;\n",
       "    }\n",
       "</style>\n",
       "<table border=\"1\" class=\"dataframe\">\n",
       "  <thead>\n",
       "    <tr style=\"text-align: right;\">\n",
       "      <th></th>\n",
       "      <th>Weight</th>\n",
       "      <th>Surface</th>\n",
       "      <th>Fruit</th>\n",
       "    </tr>\n",
       "  </thead>\n",
       "  <tbody>\n",
       "    <tr>\n",
       "      <th>0</th>\n",
       "      <td>165.705817</td>\n",
       "      <td>0.580310</td>\n",
       "      <td>Orange</td>\n",
       "    </tr>\n",
       "    <tr>\n",
       "      <th>1</th>\n",
       "      <td>157.358702</td>\n",
       "      <td>0.460595</td>\n",
       "      <td>Orange</td>\n",
       "    </tr>\n",
       "    <tr>\n",
       "      <th>2</th>\n",
       "      <td>153.769691</td>\n",
       "      <td>0.409427</td>\n",
       "      <td>Orange</td>\n",
       "    </tr>\n",
       "    <tr>\n",
       "      <th>3</th>\n",
       "      <td>165.020345</td>\n",
       "      <td>0.396759</td>\n",
       "      <td>Orange</td>\n",
       "    </tr>\n",
       "    <tr>\n",
       "      <th>4</th>\n",
       "      <td>140.726711</td>\n",
       "      <td>0.763788</td>\n",
       "      <td>Apple</td>\n",
       "    </tr>\n",
       "  </tbody>\n",
       "</table>\n",
       "</div>"
      ],
      "text/plain": [
       "       Weight   Surface   Fruit\n",
       "0  165.705817  0.580310  Orange\n",
       "1  157.358702  0.460595  Orange\n",
       "2  153.769691  0.409427  Orange\n",
       "3  165.020345  0.396759  Orange\n",
       "4  140.726711  0.763788   Apple"
      ]
     },
     "execution_count": 3,
     "metadata": {},
     "output_type": "execute_result"
    }
   ],
   "source": [
    "# Shuffle rows and display data\n",
    "data = data.sample(frac=1).reset_index(drop=True)\n",
    "data.head()"
   ]
  },
  {
   "cell_type": "code",
   "execution_count": 4,
   "metadata": {},
   "outputs": [
    {
     "data": {
      "text/html": [
       "<div>\n",
       "<style scoped>\n",
       "    .dataframe tbody tr th:only-of-type {\n",
       "        vertical-align: middle;\n",
       "    }\n",
       "\n",
       "    .dataframe tbody tr th {\n",
       "        vertical-align: top;\n",
       "    }\n",
       "\n",
       "    .dataframe thead th {\n",
       "        text-align: right;\n",
       "    }\n",
       "</style>\n",
       "<table border=\"1\" class=\"dataframe\">\n",
       "  <thead>\n",
       "    <tr style=\"text-align: right;\">\n",
       "      <th></th>\n",
       "      <th>Weight</th>\n",
       "      <th>Surface</th>\n",
       "      <th>Fruit</th>\n",
       "      <th>label</th>\n",
       "    </tr>\n",
       "  </thead>\n",
       "  <tbody>\n",
       "    <tr>\n",
       "      <th>0</th>\n",
       "      <td>165.705817</td>\n",
       "      <td>0.580310</td>\n",
       "      <td>Orange</td>\n",
       "      <td>1</td>\n",
       "    </tr>\n",
       "    <tr>\n",
       "      <th>1</th>\n",
       "      <td>157.358702</td>\n",
       "      <td>0.460595</td>\n",
       "      <td>Orange</td>\n",
       "      <td>1</td>\n",
       "    </tr>\n",
       "    <tr>\n",
       "      <th>2</th>\n",
       "      <td>153.769691</td>\n",
       "      <td>0.409427</td>\n",
       "      <td>Orange</td>\n",
       "      <td>1</td>\n",
       "    </tr>\n",
       "    <tr>\n",
       "      <th>3</th>\n",
       "      <td>165.020345</td>\n",
       "      <td>0.396759</td>\n",
       "      <td>Orange</td>\n",
       "      <td>1</td>\n",
       "    </tr>\n",
       "    <tr>\n",
       "      <th>4</th>\n",
       "      <td>140.726711</td>\n",
       "      <td>0.763788</td>\n",
       "      <td>Apple</td>\n",
       "      <td>0</td>\n",
       "    </tr>\n",
       "  </tbody>\n",
       "</table>\n",
       "</div>"
      ],
      "text/plain": [
       "       Weight   Surface   Fruit  label\n",
       "0  165.705817  0.580310  Orange      1\n",
       "1  157.358702  0.460595  Orange      1\n",
       "2  153.769691  0.409427  Orange      1\n",
       "3  165.020345  0.396759  Orange      1\n",
       "4  140.726711  0.763788   Apple      0"
      ]
     },
     "execution_count": 4,
     "metadata": {},
     "output_type": "execute_result"
    }
   ],
   "source": [
    "# Convert the string object to numeric\n",
    "data['label'] = data['Fruit'].apply(lambda x: 0 if x=='Apple' else 1)\n",
    "data.head()"
   ]
  },
  {
   "cell_type": "code",
   "execution_count": 5,
   "metadata": {},
   "outputs": [
    {
     "data": {
      "text/html": [
       "<div>\n",
       "<style scoped>\n",
       "    .dataframe tbody tr th:only-of-type {\n",
       "        vertical-align: middle;\n",
       "    }\n",
       "\n",
       "    .dataframe tbody tr th {\n",
       "        vertical-align: top;\n",
       "    }\n",
       "\n",
       "    .dataframe thead th {\n",
       "        text-align: right;\n",
       "    }\n",
       "</style>\n",
       "<table border=\"1\" class=\"dataframe\">\n",
       "  <thead>\n",
       "    <tr style=\"text-align: right;\">\n",
       "      <th></th>\n",
       "      <th>Weight</th>\n",
       "      <th>Surface</th>\n",
       "      <th>label</th>\n",
       "    </tr>\n",
       "  </thead>\n",
       "  <tbody>\n",
       "    <tr>\n",
       "      <th>0</th>\n",
       "      <td>165.705817</td>\n",
       "      <td>0.580310</td>\n",
       "      <td>1</td>\n",
       "    </tr>\n",
       "    <tr>\n",
       "      <th>1</th>\n",
       "      <td>157.358702</td>\n",
       "      <td>0.460595</td>\n",
       "      <td>1</td>\n",
       "    </tr>\n",
       "    <tr>\n",
       "      <th>2</th>\n",
       "      <td>153.769691</td>\n",
       "      <td>0.409427</td>\n",
       "      <td>1</td>\n",
       "    </tr>\n",
       "    <tr>\n",
       "      <th>3</th>\n",
       "      <td>165.020345</td>\n",
       "      <td>0.396759</td>\n",
       "      <td>1</td>\n",
       "    </tr>\n",
       "    <tr>\n",
       "      <th>4</th>\n",
       "      <td>140.726711</td>\n",
       "      <td>0.763788</td>\n",
       "      <td>0</td>\n",
       "    </tr>\n",
       "  </tbody>\n",
       "</table>\n",
       "</div>"
      ],
      "text/plain": [
       "       Weight   Surface  label\n",
       "0  165.705817  0.580310      1\n",
       "1  157.358702  0.460595      1\n",
       "2  153.769691  0.409427      1\n",
       "3  165.020345  0.396759      1\n",
       "4  140.726711  0.763788      0"
      ]
     },
     "execution_count": 5,
     "metadata": {},
     "output_type": "execute_result"
    }
   ],
   "source": [
    "fruits = data.drop([\"Fruit\"], axis=1, inplace=False)\n",
    "fruits.head()"
   ]
  },
  {
   "cell_type": "markdown",
   "metadata": {},
   "source": [
    "## Stage-2: Split Data in two sets (Train and Validation)"
   ]
  },
  {
   "cell_type": "code",
   "execution_count": 6,
   "metadata": {},
   "outputs": [
    {
     "data": {
      "text/plain": [
       "array([[165.7058175 ,   0.58031036],\n",
       "       [157.3587019 ,   0.46059484],\n",
       "       [153.7696911 ,   0.40942741],\n",
       "       [165.0203452 ,   0.39675899]])"
      ]
     },
     "execution_count": 6,
     "metadata": {},
     "output_type": "execute_result"
    }
   ],
   "source": [
    "# Get features X as array\n",
    "features = fruits.drop(['label'], axis=1, inplace=False)\n",
    "X = features.values\n",
    "X[0:4]"
   ]
  },
  {
   "cell_type": "code",
   "execution_count": 7,
   "metadata": {},
   "outputs": [
    {
     "data": {
      "text/plain": [
       "array([1, 1, 1, 1], dtype=int64)"
      ]
     },
     "execution_count": 7,
     "metadata": {},
     "output_type": "execute_result"
    }
   ],
   "source": [
    "# Get label Y for features\n",
    "Y = fruits['label'].values\n",
    "Y[0:4]"
   ]
  },
  {
   "cell_type": "code",
   "execution_count": 8,
   "metadata": {},
   "outputs": [
    {
     "data": {
      "text/plain": [
       "((160, 2), (40, 2), (160,), (40,))"
      ]
     },
     "execution_count": 8,
     "metadata": {},
     "output_type": "execute_result"
    }
   ],
   "source": [
    "# Split Data\n",
    "X_train, X_test, y_train, y_test = train_test_split(X,Y, test_size=0.2, random_state=42)\n",
    "X_train.shape, X_test.shape, y_train.shape, y_test.shape"
   ]
  },
  {
   "cell_type": "code",
   "execution_count": 9,
   "metadata": {},
   "outputs": [
    {
     "data": {
      "text/plain": [
       "<matplotlib.axes._subplots.AxesSubplot at 0x26bbc8d45c0>"
      ]
     },
     "execution_count": 9,
     "metadata": {},
     "output_type": "execute_result"
    },
    {
     "data": {
      "image/png": "[encoded data removed]",
      "text/plain": [
       "<Figure size 432x288 with 2 Axes>"
      ]
     },
     "metadata": {},
     "output_type": "display_data"
    }
   ],
   "source": [
    "#Plot the data in 2-d space\n",
    "fruits.plot(kind='scatter', x='Weight', y='Surface',\n",
    "           c='label', cmap=plt.get_cmap('jet'))"
   ]
  },
  {
   "cell_type": "markdown",
   "metadata": {},
   "source": [
    "## Stage-3: Training"
   ]
  },
  {
   "cell_type": "code",
   "execution_count": 10,
   "metadata": {},
   "outputs": [
    {
     "data": {
      "text/plain": [
       "KNeighborsClassifier(algorithm='auto', leaf_size=30, metric='minkowski',\n",
       "                     metric_params=None, n_jobs=None, n_neighbors=5, p=2,\n",
       "                     weights='uniform')"
      ]
     },
     "execution_count": 10,
     "metadata": {},
     "output_type": "execute_result"
    }
   ],
   "source": [
    "# Initializing ML algorithm\n",
    "model = KNeighborsClassifier()\n",
    "\n",
    "# Providing the training data X and Y to our ML algorithm\n",
    "model.fit(X_train, y_train)"
   ]
  },
  {
   "cell_type": "markdown",
   "metadata": {},
   "source": [
    "### Now our ML algorithm has learnt the function for given X,Y -> Model is ready for testing"
   ]
  },
  {
   "cell_type": "markdown",
   "metadata": {},
   "source": [
    "## Stage-4: Testing the trained ML model\n",
    "#### Note - we are only giving X not Y - Model predict Y based on funtion it learnt during training"
   ]
  },
  {
   "cell_type": "code",
   "execution_count": 11,
   "metadata": {},
   "outputs": [],
   "source": [
    "# Testing the trained model with Test dataset\n",
    "prediction = model.predict(X_test)"
   ]
  },
  {
   "cell_type": "code",
   "execution_count": 12,
   "metadata": {},
   "outputs": [
    {
     "name": "stdout",
     "output_type": "stream",
     "text": [
      "KNN Test Score:\n",
      "97.5\n"
     ]
    }
   ],
   "source": [
    "# Print the score on the testing data\n",
    "print(\"KNN Test Score:\")\n",
    "print(accuracy_score(y_test, prediction)*100)"
   ]
  },
  {
   "cell_type": "code",
   "execution_count": 13,
   "metadata": {},
   "outputs": [
    {
     "name": "stdout",
     "output_type": "stream",
     "text": [
      "X=[137.1845778    0.71588208], ActualLabel:0, Prediction:0\n",
      "X=[139.9804093    0.60838281], ActualLabel:0, Prediction:0\n",
      "X=[147.1285051    0.81395036], ActualLabel:0, Prediction:0\n",
      "X=[154.1648757    0.35419288], ActualLabel:1, Prediction:1\n",
      "X=[161.4184704    0.38451976], ActualLabel:1, Prediction:1\n",
      "X=[136.7168311    0.89762252], ActualLabel:0, Prediction:0\n",
      "X=[138.9454156    0.78255369], ActualLabel:0, Prediction:0\n",
      "X=[141.9925135    0.79900269], ActualLabel:0, Prediction:0\n",
      "X=[148.6740127    0.74573097], ActualLabel:0, Prediction:0\n",
      "X=[155.7754433    0.36014337], ActualLabel:1, Prediction:1\n",
      "X=[143.9315013    0.62829619], ActualLabel:0, Prediction:0\n",
      "X=[148.7837263    0.68727348], ActualLabel:0, Prediction:0\n",
      "X=[164.8558706    0.58865238], ActualLabel:1, Prediction:1\n",
      "X=[148.583763     0.85842869], ActualLabel:0, Prediction:0\n",
      "X=[165.0694538    0.36996378], ActualLabel:1, Prediction:1\n",
      "X=[137.0845218    0.67267192], ActualLabel:0, Prediction:0\n",
      "X=[162.4396361    0.37679855], ActualLabel:1, Prediction:1\n",
      "X=[136.9589207   0.7846848], ActualLabel:0, Prediction:0\n",
      "X=[149.5976915    0.75531035], ActualLabel:0, Prediction:0\n",
      "X=[138.4353082    0.81383327], ActualLabel:0, Prediction:0\n",
      "X=[152.8995981    0.41980538], ActualLabel:1, Prediction:1\n",
      "X=[137.3054646   0.8504097], ActualLabel:0, Prediction:0\n",
      "X=[142.5677925    0.85670538], ActualLabel:0, Prediction:0\n",
      "X=[137.8560557    0.87404867], ActualLabel:0, Prediction:0\n",
      "X=[143.8075821    0.86368124], ActualLabel:0, Prediction:0\n",
      "X=[143.8792133    0.70586733], ActualLabel:0, Prediction:0\n",
      "X=[136.9323635    0.79412431], ActualLabel:0, Prediction:0\n",
      "X=[160.0947536    0.32611697], ActualLabel:1, Prediction:1\n",
      "X=[163.4901587    0.34794547], ActualLabel:1, Prediction:1\n",
      "X=[165.3870221    0.50742506], ActualLabel:1, Prediction:1\n",
      "X=[159.3285597    0.54411104], ActualLabel:1, Prediction:1\n",
      "X=[141.3655461    0.85236722], ActualLabel:0, Prediction:0\n",
      "X=[140.1221786    0.75512448], ActualLabel:0, Prediction:0\n",
      "X=[146.8344625    0.89873817], ActualLabel:0, Prediction:0\n",
      "X=[159.5074151    0.59548564], ActualLabel:1, Prediction:1\n",
      "X=[157.5608673    0.49477127], ActualLabel:1, Prediction:1\n",
      "X=[160.4606489    0.58628593], ActualLabel:1, Prediction:1\n",
      "X=[158.3024264    0.52105483], ActualLabel:1, Prediction:1\n",
      "X=[150.1042543    0.41907406], ActualLabel:1, Prediction:0\n",
      "X=[156.819454     0.40605769], ActualLabel:1, Prediction:1\n"
     ]
    }
   ],
   "source": [
    "# show the inputs and predicted outputs\n",
    "for i in range(len(X_test)):\n",
    "    print(f\"X={X_test[i]}, ActualLabel:{y_test[i]}, Prediction:{prediction[i]}\")"
   ]
  },
  {
   "cell_type": "code",
   "execution_count": null,
   "metadata": {},
   "outputs": [],
   "source": []
  }
 ],
 "metadata": {
  "kernelspec": {
   "display_name": "Python 3",
   "language": "python",
   "name": "python3"
  },
  "language_info": {
   "codemirror_mode": {
    "name": "ipython",
    "version": 3
   },
   "file_extension": ".py",
   "mimetype": "text/x-python",
   "name": "python",
   "nbconvert_exporter": "python",
   "pygments_lexer": "ipython3",
   "version": "3.6.5"
  }
 },
 "nbformat": 4,
 "nbformat_minor": 2
}
